{
 "cells": [
  {
   "cell_type": "markdown",
   "id": "fbc06f0f",
   "metadata": {},
   "source": [
    "# Natural language processing - lab 8 (Named entity recognition)\n",
    "Bartosz Klimza"
   ]
  },
  {
   "cell_type": "markdown",
   "id": "6cb18af0",
   "metadata": {},
   "source": [
    "# Necessary imports"
   ]
  },
  {
   "cell_type": "code",
   "execution_count": 19,
   "id": "ebdf0fef",
   "metadata": {},
   "outputs": [],
   "source": [
    "import os\n",
    "from requests import post, get\n",
    "import json\n",
    "import time\n",
    "from collections import Counter as C\n",
    "from xml.etree.ElementTree import parse\n",
    "import matplotlib.pyplot as plt"
   ]
  },
  {
   "cell_type": "markdown",
   "id": "d14b485d",
   "metadata": {},
   "source": [
    "# 1. Read the classification of Named Entities.\n",
    "http://clarin-pl.eu/pliki/warsztaty/Wyklad3-inforex-liner2.pdf"
   ]
  },
  {
   "cell_type": "markdown",
   "id": "ffaf7896",
   "metadata": {},
   "source": [
    "# 2. Read the API of NER in Clarin.\n",
    "http://nlp.pwr.wroc.pl/redmine/projects/nlprest2/wiki"
   ]
  },
  {
   "cell_type": "markdown",
   "id": "48f7667c",
   "metadata": {},
   "source": [
    "# 3. Read the documentation of CLL format.\n",
    "http://nlp.pwr.wroc.pl/redmine/projects/corpus2/wiki/CCL_format"
   ]
  },
  {
   "cell_type": "markdown",
   "id": "7d4f8171",
   "metadata": {},
   "source": [
    "# 4. Sort bills according to their size and take top 50 (largest) bills."
   ]
  },
  {
   "cell_type": "code",
   "execution_count": 10,
   "id": "0fc309c7",
   "metadata": {
    "scrolled": true
   },
   "outputs": [],
   "source": [
    "files = os.listdir(os.getcwd())\n",
    "files.sort(key=lambda f: os.stat(f).st_size, reverse=True)\n",
    "largest_50_files = files[:50]"
   ]
  },
  {
   "cell_type": "markdown",
   "id": "a6e6d8d6",
   "metadata": {},
   "source": [
    "# 5. Use the lemmatized and sentence split documents (from ex. 5) to identify the expressions that consist of consecutive words starting with a capital letter (you will have to look at the inflected form of the word to check its capitalization) that do not occupy the first position in a sentence."
   ]
  },
  {
   "cell_type": "markdown",
   "id": "90768ab7",
   "metadata": {},
   "source": [
    "Korzystam z przykładów przedstawionych tutaj: http://nlp.pwr.wroc.pl/redmine/projects/nlprest2/wiki/Python"
   ]
  },
  {
   "cell_type": "code",
   "execution_count": 74,
   "id": "a84a81cc",
   "metadata": {},
   "outputs": [],
   "source": [
    "user = \"mojadresemail@email.com\"\n",
    "\n",
    "def upload(file):\n",
    "    with open(file, \"rb\") as myfile:\n",
    "        doc = myfile.read()\n",
    "    return post(\"http://ws.clarin-pl.eu/nlprest2/base\" + '/upload/', data=doc, headers={'Content-Type': 'binary/octet-stream'})\n",
    "\n",
    "def process(data):\n",
    "    doc = json.dumps(data)\n",
    "    taskid = post(\"http://ws.clarin-pl.eu/nlprest2/base\" + '/startTask/', data=doc, headers={'Content-Type': 'application/json'}).content.decode('utf-8')\n",
    "    time.sleep(0.2)\n",
    "    resp = get(url + '/getStatus/' + taskid).json()\n",
    "    while resp[\"status\"] == \"QUEUE\" or resp[\"status\"] == \"PROCESSING\":\n",
    "        time.sleep(0.5)\n",
    "        resp = get(\"http://ws.clarin-pl.eu/nlprest2/base\" + '/getStatus/' + taskid).json()\n",
    "    if resp[\"status\"] == \"ERROR\":\n",
    "        print(\"Error \" + data[\"value\"])\n",
    "        return None\n",
    "    return resp[\"value\"]\n",
    "\n",
    "\n",
    "def main(largest):\n",
    "    global_time = time.time()\n",
    "    for filename in os.listdir(\"./ustawy/\"):\n",
    "        if filename in largest:\n",
    "            filepath = os.path.join(\"./ustawy/\", filename)\n",
    "            fileid = upload(filepath).content.decode(\"utf-8\")\n",
    "            data = {'lpmn': \"any2txt|wcrft2\", 'user': user, 'file': fileid}\n",
    "            data = process(data)\n",
    "            if data is None:\n",
    "                continue\n",
    "            data = data[0][\"fileID\"]\n",
    "            content = get(\"http://ws.clarin-pl.eu/nlprest2/base\" + '/download' + data).content.decode('utf-8')\n",
    "            with open('out/' + os.path.basename(filename) + '.ccl', \"w\") as outfile:\n",
    "                outfile.write(content)\n",
    "\n",
    "main(largest_50_files)"
   ]
  },
  {
   "cell_type": "markdown",
   "id": "72039e17",
   "metadata": {},
   "source": [
    "# 6. Compute the frequency of each identified expression and print 50 results with the largest number of occurrences."
   ]
  },
  {
   "cell_type": "code",
   "execution_count": 59,
   "id": "b59d9b47",
   "metadata": {},
   "outputs": [],
   "source": [
    "tag_str, c_str, a_str, o_str = \"tok\", \"chan\", \"ann\", \"orth\""
   ]
  },
  {
   "cell_type": "code",
   "execution_count": 28,
   "id": "8b6c9739",
   "metadata": {
    "scrolled": true
   },
   "outputs": [
    {
     "data": {
      "text/plain": [
       "{'Art': 9451,\n",
       " 'Nr': 8242,\n",
       " 'W': 4159,\n",
       " 'Jeżeli': 1915,\n",
       " 'Dz': 1644,\n",
       " 'U': 1548,\n",
       " 'Minister': 1153,\n",
       " 'Do': 991,\n",
       " 'Rzeczypospolitej Polskiej': 669,\n",
       " 'Przepisy': 647,\n",
       " 'Rozdział': 638,\n",
       " 'Na': 498,\n",
       " 'Kto': 448,\n",
       " 'Prawo': 431,\n",
       " 'Przepis': 429,\n",
       " 'Kodeksu': 393,\n",
       " 'Organ': 390,\n",
       " 'Policji': 384,\n",
       " 'Sąd': 288,\n",
       " 'Skarbu Państwa': 287,\n",
       " 'Unii Europejskiej': 287,\n",
       " 'Nie': 277,\n",
       " 'Za': 276,\n",
       " 'Pozostałe': 275,\n",
       " 'Rada Ministrów': 266,\n",
       " 'Z': 261,\n",
       " 'Straży Granicznej': 253,\n",
       " 'Minister Sprawiedliwości': 239,\n",
       " 'O': 232,\n",
       " 'I': 220,\n",
       " 'Prezes Rady Ministrów': 219,\n",
       " 'Państwowej Straży Pożarnej': 219,\n",
       " 'Zmiany': 212,\n",
       " 'Przy': 208,\n",
       " 'II': 188,\n",
       " 'Po': 185,\n",
       " 'Wniosek': 184,\n",
       " 'Kasy Chorych': 175,\n",
       " 'Inne': 168,\n",
       " 'Od': 165,\n",
       " 'Azot': 165,\n",
       " 'Koszty': 162,\n",
       " 'Minister Obrony Narodowej': 162,\n",
       " 'Minister Finansów': 155,\n",
       " 'III': 155,\n",
       " 'Rady': 144,\n",
       " 'Tkaniny': 140,\n",
       " 'Osoby': 137,\n",
       " 'Zakład': 133,\n",
       " 'Przepisu': 128}"
      ]
     },
     "execution_count": 28,
     "metadata": {},
     "output_type": "execute_result"
    }
   ],
   "source": [
    "counter = C({})\n",
    "for f in os.listdir(\"out/\"):\n",
    "    if str(f)[-4:] == \".ccl\":\n",
    "        files = parse(os.path.join(\"out/\", f)).getroot()\n",
    "        for file in files:\n",
    "            for s in file:\n",
    "                c, upper_letter, e = 0, False, []\n",
    "                for t in s:\n",
    "                    if t.tag == tag_str:\n",
    "                        if t[0].text[0].upper() == t[0].text[0] and t[0].text[0].isalpha():\n",
    "                            if upper_letter: e[-1] += \" \" + t[0].text\n",
    "                            else: e.append(t[0].text)\n",
    "                            upper_letter = True\n",
    "                        else: upper_letter = False\n",
    "                        c += 1\n",
    "            counter += C(e)\n",
    "common_50 = {k: v for k, v in sorted(counter.items(), key=lambda item: item[1], reverse=True)[:50]}\n",
    "common_50"
   ]
  },
  {
   "cell_type": "markdown",
   "id": "55711a73",
   "metadata": {},
   "source": [
    "# 7. Apply the NER algorithm to identify the named entities in the same set of documents (not lemmatized) using the n82 model.\n",
    "\n",
    "Ponownie korzystam z przykładów przedstawionych tutaj: http://nlp.pwr.wroc.pl/redmine/projects/nlprest2/wiki/Python"
   ]
  },
  {
   "cell_type": "code",
   "execution_count": 4,
   "id": "7ae733a3",
   "metadata": {},
   "outputs": [],
   "source": [
    "# Z uwagi na bardzo długi czas wykonania wygenerowałem połowę plików \n",
    "\n",
    "user = \"mojadresemail@email.com\"\n",
    "\n",
    "def upload(file):\n",
    "    with open(file, \"rb\") as myfile:\n",
    "        doc = myfile.read()\n",
    "    return post(\"http://ws.clarin-pl.eu/nlprest2/base\" + '/upload/', data=doc, headers={'Content-Type': 'binary/octet-stream'})\n",
    "\n",
    "def process(data):\n",
    "    doc = json.dumps(data)\n",
    "    taskid = post(url + '/startTask/', data=doc, headers={'Content-Type': 'application/json'}).content.decode('utf-8')\n",
    "    time.sleep(0.2)\n",
    "    resp = get(url + '/getStatus/' + taskid).json()\n",
    "    while resp[\"status\"] == \"QUEUE\" or resp[\"status\"] == \"PROCESSING\":\n",
    "        time.sleep(0.5)\n",
    "        resp = get(\"http://ws.clarin-pl.eu/nlprest2/base\" + '/getStatus/' + taskid).json()\n",
    "    if resp[\"status\"] == \"ERROR\":\n",
    "        print(\"Error \" + data[\"value\"])\n",
    "        return None\n",
    "    return resp[\"value\"]\n",
    "\n",
    "def new_main(largest):\n",
    "    global_time = time.time()\n",
    "    for filename in os.listdir(\"./ustawy/\"):\n",
    "        if filename in largest:\n",
    "            filepath = os.path.join(\"./ustawy/\", filename)\n",
    "            fileid = upload(filepath).content.decode(\"utf-8\")\n",
    "            data = {'lpmn': 'any2txt|wcrft2|liner2({\"model\":\"n82\"})', 'user': user, 'file': fileid}\n",
    "            data = process(data)\n",
    "            if data is None:\n",
    "                continue\n",
    "            data = data[0][\"fileID\"]\n",
    "            content = get(\"http://ws.clarin-pl.eu/nlprest2/base\" + '/download' + data).content.decode('utf-8')\n",
    "            with open('new_out/' + os.path.basename(filename) + '.ccl', \"w\") as outfile:\n",
    "                outfile.write(content)\n",
    "\n",
    "new_main(largest_50_files)"
   ]
  },
  {
   "cell_type": "markdown",
   "id": "98afad07",
   "metadata": {},
   "source": [
    "# 8. Plot the frequency (histogram) of the coarse-grained classes (e.g. nam_adj, nam_eve, nam_fac)."
   ]
  },
  {
   "cell_type": "code",
   "execution_count": 70,
   "id": "1c8cbacf",
   "metadata": {},
   "outputs": [],
   "source": [
    "r, cg_class = dict(), dict()\n",
    "for f in os.listdir('new_out/'):\n",
    "    if str(f)[-4:] == \".ccl\":\n",
    "        files = parse(os.path.join('new_out/', f)).getroot()\n",
    "        for file in files:\n",
    "            for s in file:\n",
    "                stat, e = {}, \"\"\n",
    "                for t in s:\n",
    "                    if t.tag == tag_str:\n",
    "                        for a in t.findall(a_str):\n",
    "                            if int(a.text) != 0:\n",
    "                                ak, w = (a.get(c_str), a.text), t.find(o_str).text\n",
    "                                v = stat.get(ak, [])\n",
    "                                v.append(w)\n",
    "                                stat[ak] = v\n",
    "                for a, ex in stat.items():\n",
    "                    e, name = \" \".join(ex), a[0]\n",
    "                    val = r.get((name, e), 0)\n",
    "                    r[(name, e)] = val + 1             \n",
    "for k, v in r.items():\n",
    "    cg_class[\"_\".join(k[0].split(\"_\")[0:2])] = cg_class.get(\"_\".join(k[0].split(\"_\")[0:2]), 0) + v"
   ]
  },
  {
   "cell_type": "code",
   "execution_count": 71,
   "id": "f57632ff",
   "metadata": {},
   "outputs": [
    {
     "data": {
      "text/plain": [
       "[('nam_org', 3905),\n",
       " ('nam_pro', 1478),\n",
       " ('nam_loc', 638),\n",
       " ('nam_liv', 308),\n",
       " ('nam_oth', 200),\n",
       " ('nam_adj', 104),\n",
       " ('nam_fac', 36),\n",
       " ('nam_num', 14),\n",
       " ('nam_eve', 11)]"
      ]
     },
     "execution_count": 71,
     "metadata": {},
     "output_type": "execute_result"
    }
   ],
   "source": [
    "sorted(cg_class.items(), key = lambda kv: -kv[1])"
   ]
  },
  {
   "cell_type": "code",
   "execution_count": 72,
   "id": "76c1af29",
   "metadata": {},
   "outputs": [
    {
     "data": {
      "image/png": "[encoded data removed]",
      "text/plain": [
       "<Figure size 1080x720 with 1 Axes>"
      ]
     },
     "metadata": {
      "needs_background": "light"
     },
     "output_type": "display_data"
    }
   ],
   "source": [
    "plt.figure(figsize=(15, 10))\n",
    "plt.bar(cg_class.keys(), cg_class.values(), align='center', color=\"green\")\n",
    "plt.show()"
   ]
  },
  {
   "cell_type": "markdown",
   "id": "59cfed42",
   "metadata": {},
   "source": [
    "# 10. Display 50 most frequent Named Entities including their count and fine-grained type."
   ]
  },
  {
   "cell_type": "code",
   "execution_count": 18,
   "id": "f37eac2b",
   "metadata": {},
   "outputs": [
    {
     "name": "stdout",
     "output_type": "stream",
     "text": [
      "[(('nam_pro_media_periodic', 'Dz . U .'), 699), (('nam_loc_gpe_country', 'Rzeczypospolitej Polskiej'), 364), (('nam_org_organization', 'Unii Europejskiej'), 161), (('nam_oth_currency', 'zł'), 139), (('nam_org_institution', 'Skarbu Państwa'), 126), (('nam_org_institution', 'Urząd Patentowy'), 104), (('nam_org_organization', 'Państwowej Straży Pożarnej'), 100), (('nam_org_institution', 'Rada Ministrów'), 98), (('nam_org_organization', 'EFTA'), 96), (('nam_org_company', 'Europejskiego Porozumienia o Wolnym Handlu'), 85), (('nam_org_institution', 'Minister Sprawiedliwości'), 78), (('nam_org_institution', 'Prezes Rady Ministrów'), 66), (('nam_org_organization', 'Wspólnoty Europejskiej'), 56), (('nam_pro_media_periodic', 'Dz . Urz'), 52), (('nam_pro_title_document', 'Kodeksu karnego'), 51), (('nam_liv_person', 'Kasa Chorych'), 51), (('nam_org_institution', 'Minister Zdrowia i Opieki Społecznej'), 49), (('nam_org_institution', 'Skarb Państwa'), 48), (('nam_org_institution', 'Prezes Urzędu'), 43), (('nam_org_institution', 'Urzędu Patentowego'), 41), (('nam_org_institution', 'Urzędzie Patentowym'), 36), (('nam_org_institution', 'Inspekcji Farmaceutycznej'), 35), (('nam_org_institution', 'Minister Obrony Narodowej'), 34), (('nam_org_organization', 'Krajowego Związku Kas'), 33), (('nam_org_organization', 'Krajowego Związku Kas Chorych'), 31), (('nam_org_institution', 'Państwowa Komisja Wyborcza'), 30), (('nam_org_organization', 'Funduszu'), 30), (('nam_org_institution', 'Funduszu'), 30), (('nam_org_institution', 'Prezesa Urzędu'), 30), (('nam_org_institution', 'Ministrem Obrony Narodowej'), 29), (('nam_org_institution', 'Sąd Najwyższy'), 29), (('nam_org_institution', 'Rady Krajowego Związku Kas'), 29), (('nam_org_institution', 'Głównego Inspektora Farmaceutycznego'), 28), (('nam_org_company', 'Europejskim Obszarze Gospodarczym'), 28), (('nam_org_institution', 'Urząd Nadzoru'), 28), (('nam_org_institution', 'Państwowej Komisji Wyborczej'), 27), (('nam_pro_title_document', 'Ordynacja podatkowa'), 27), (('nam_loc_gpe_country', 'Rzeczpospolita Polska'), 26), (('nam_org_institution', 'Prezes Funduszu'), 25), (('nam_org_institution', 'Główny Inspektor Farmaceutyczny'), 24), (('nam_pro_brand', 'Natura 2000'), 24), (('nam_pro_title_document', 'Kodeksu postępowania administracyjnego'), 23), (('nam_adj_country', 'polskiej'), 23), (('nam_pro_title_document', 'Kodeksu postępowania cywilnego'), 23), (('nam_org_institution', 'Prezesa Funduszu'), 23), (('nam_org_institution', 'Dobrej Praktyki Wytwarzania'), 23), (('nam_loc_gpe_country', 'Polsce'), 22), (('nam_org_institution', 'Urzędu Ochrony Państwa'), 22), (('nam_pro_title_document', 'Konwencji'), 21), (('nam_liv_person', 'Kasy Chorych'), 21)]\n"
     ]
    }
   ],
   "source": [
    "print(sorted(result.items(), key = lambda kv: -kv[1])[:50])"
   ]
  }
 ],
 "metadata": {
  "kernelspec": {
   "display_name": "Python 3",
   "language": "python",
   "name": "python3"
  },
  "language_info": {
   "codemirror_mode": {
    "name": "ipython",
    "version": 3
   },
   "file_extension": ".py",
   "mimetype": "text/x-python",
   "name": "python",
   "nbconvert_exporter": "python",
   "pygments_lexer": "ipython3",
   "version": "3.8.8"
  }
 },
 "nbformat": 4,
 "nbformat_minor": 5
}
