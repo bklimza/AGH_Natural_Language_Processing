{
 "cells": [
  {
   "cell_type": "markdown",
   "id": "f66e21ca",
   "metadata": {},
   "source": [
    "# Natural Language Processing - lab 1 (Regular expressions)\n",
    "\n",
    "Bartosz Klimza"
   ]
  },
  {
   "cell_type": "markdown",
   "id": "a597a4e0",
   "metadata": {},
   "source": [
    "# Necessary imports"
   ]
  },
  {
   "cell_type": "code",
   "execution_count": 38,
   "id": "f3245db4",
   "metadata": {},
   "outputs": [],
   "source": [
    "import os \n",
    "import pandas as pd\n",
    "import regex\n",
    "import matplotlib.pyplot as plt"
   ]
  },
  {
   "cell_type": "markdown",
   "id": "4ca0155b",
   "metadata": {},
   "source": [
    "# Data preparation"
   ]
  },
  {
   "cell_type": "code",
   "execution_count": 39,
   "id": "373a5e47",
   "metadata": {},
   "outputs": [],
   "source": [
    "data_dir = \"./ustawy/\""
   ]
  },
  {
   "cell_type": "markdown",
   "id": "d37302e7",
   "metadata": {},
   "source": [
    "# 1. For each bill compute the number of the following amendments present in the bill:\n",
    "    * addition of a unit (e.g. dodaje się ust. 5a),\n",
    "    * removal of a unit (e.g. w art. 10 ust. 1 pkt 8 skreśla się),\n",
    "    * change of a unit (e.g. art. 5 otrzymuje brzmienie).\n",
    "# 2. Note that other types of changes, e.g. po wyrazach \"na dofinansowanie\" dodaje się wyrazy \" , z zastrzeżeniem art. 21a,\", must not be included in the result."
   ]
  },
  {
   "cell_type": "code",
   "execution_count": 40,
   "id": "94a433ae",
   "metadata": {},
   "outputs": [],
   "source": [
    "points = r\"(ust\\.|pkt|art\\.|§) \\d*\\p{Ll}*\"\n",
    "addition = r\"dodaje [się ]*\" + points\n",
    "removal = r\"\\b((w \" + points + r\" (skreśla|uchyla) [się]*)|((skreśla|uchyla) [się ]*\" + points + r\"))\"\n",
    "change = points + r\" otrzymuje brzmienie\"\n",
    "for_year = r\"(?:U|u)\\s*(?:S|s)\\s*(?:T|t)\\s*(?:A|a)\\s*(?:W|w)\\s*(?:A|a)\\s(?:KONSTYTUCYJNA|BUDŻETOWA\\s*NA ROK \\d{4}|\\s*)\\s*z dnia \\d{1,2} (?:stycznia|lutego|marca|kwietnia|maja|czerwca|lipca|sierpnia|września|października|listopada|grudnia) \\d{4}\""
   ]
  },
  {
   "cell_type": "code",
   "execution_count": 41,
   "id": "cb5d43e0",
   "metadata": {},
   "outputs": [
    {
     "data": {
      "text/html": [
       "<div>\n",
       "<style scoped>\n",
       "    .dataframe tbody tr th:only-of-type {\n",
       "        vertical-align: middle;\n",
       "    }\n",
       "\n",
       "    .dataframe tbody tr th {\n",
       "        vertical-align: top;\n",
       "    }\n",
       "\n",
       "    .dataframe thead th {\n",
       "        text-align: right;\n",
       "    }\n",
       "</style>\n",
       "<table border=\"1\" class=\"dataframe\">\n",
       "  <thead>\n",
       "    <tr style=\"text-align: right;\">\n",
       "      <th></th>\n",
       "      <th>Additions</th>\n",
       "      <th>Removals</th>\n",
       "      <th>Changes</th>\n",
       "      <th>Year</th>\n",
       "      <th>All</th>\n",
       "    </tr>\n",
       "  </thead>\n",
       "  <tbody>\n",
       "    <tr>\n",
       "      <th>2001_874.txt</th>\n",
       "      <td>0</td>\n",
       "      <td>0</td>\n",
       "      <td>1</td>\n",
       "      <td>2001</td>\n",
       "      <td>1</td>\n",
       "    </tr>\n",
       "    <tr>\n",
       "      <th>1996_583.txt</th>\n",
       "      <td>0</td>\n",
       "      <td>1</td>\n",
       "      <td>2</td>\n",
       "      <td>1996</td>\n",
       "      <td>3</td>\n",
       "    </tr>\n",
       "    <tr>\n",
       "      <th>2003_1853.txt</th>\n",
       "      <td>13</td>\n",
       "      <td>1</td>\n",
       "      <td>28</td>\n",
       "      <td>2003</td>\n",
       "      <td>42</td>\n",
       "    </tr>\n",
       "    <tr>\n",
       "      <th>1997_753.txt</th>\n",
       "      <td>4</td>\n",
       "      <td>1</td>\n",
       "      <td>5</td>\n",
       "      <td>1997</td>\n",
       "      <td>10</td>\n",
       "    </tr>\n",
       "    <tr>\n",
       "      <th>2000_440.txt</th>\n",
       "      <td>0</td>\n",
       "      <td>0</td>\n",
       "      <td>0</td>\n",
       "      <td>2000</td>\n",
       "      <td>0</td>\n",
       "    </tr>\n",
       "    <tr>\n",
       "      <th>...</th>\n",
       "      <td>...</td>\n",
       "      <td>...</td>\n",
       "      <td>...</td>\n",
       "      <td>...</td>\n",
       "      <td>...</td>\n",
       "    </tr>\n",
       "    <tr>\n",
       "      <th>2004_1378.txt</th>\n",
       "      <td>33</td>\n",
       "      <td>6</td>\n",
       "      <td>43</td>\n",
       "      <td>2015</td>\n",
       "      <td>82</td>\n",
       "    </tr>\n",
       "    <tr>\n",
       "      <th>1995_471.txt</th>\n",
       "      <td>1</td>\n",
       "      <td>1</td>\n",
       "      <td>2</td>\n",
       "      <td>1999</td>\n",
       "      <td>4</td>\n",
       "    </tr>\n",
       "    <tr>\n",
       "      <th>2003_1692.txt</th>\n",
       "      <td>33</td>\n",
       "      <td>5</td>\n",
       "      <td>40</td>\n",
       "      <td>2013</td>\n",
       "      <td>78</td>\n",
       "    </tr>\n",
       "    <tr>\n",
       "      <th>1995_1.txt</th>\n",
       "      <td>0</td>\n",
       "      <td>2</td>\n",
       "      <td>0</td>\n",
       "      <td>1994</td>\n",
       "      <td>2</td>\n",
       "    </tr>\n",
       "    <tr>\n",
       "      <th>1997_945.txt</th>\n",
       "      <td>0</td>\n",
       "      <td>0</td>\n",
       "      <td>1</td>\n",
       "      <td>2001</td>\n",
       "      <td>1</td>\n",
       "    </tr>\n",
       "  </tbody>\n",
       "</table>\n",
       "<p>1179 rows × 5 columns</p>\n",
       "</div>"
      ],
      "text/plain": [
       "              Additions Removals Changes  Year All\n",
       "2001_874.txt          0        0       1  2001   1\n",
       "1996_583.txt          0        1       2  1996   3\n",
       "2003_1853.txt        13        1      28  2003  42\n",
       "1997_753.txt          4        1       5  1997  10\n",
       "2000_440.txt          0        0       0  2000   0\n",
       "...                 ...      ...     ...   ...  ..\n",
       "2004_1378.txt        33        6      43  2015  82\n",
       "1995_471.txt          1        1       2  1999   4\n",
       "2003_1692.txt        33        5      40  2013  78\n",
       "1995_1.txt            0        2       0  1994   2\n",
       "1997_945.txt          0        0       1  2001   1\n",
       "\n",
       "[1179 rows x 5 columns]"
      ]
     },
     "execution_count": 41,
     "metadata": {},
     "output_type": "execute_result"
    }
   ],
   "source": [
    "def extract_year(bill):\n",
    "    year = regex.findall(for_year, bill)\n",
    "    if year:  \n",
    "        return year[0][-4:]\n",
    "    else: # One bill hasn't an electronic version, so I'll return 0 for this year\n",
    "        return 0\n",
    "\n",
    "results = pd.DataFrame(columns = ['Additions', 'Removals' , 'Changes', 'Year'])\n",
    "for file in os.listdir(data_dir):\n",
    "    bill = open(os.path.join(data_dir, file), 'r').read()\n",
    "    bill = bill.split()\n",
    "    bill = \" \".join(bill) \n",
    "    additions = len(regex.findall(addition, bill))   \n",
    "    removals = len(regex.findall(removal, bill))    \n",
    "    changes = len(regex.findall(change, bill))\n",
    "    results.loc[file] = [additions, removals, changes, extract_year(bill)]\n",
    "results['All'] = results['Additions'] + results['Removals'] + results['Changes']\n",
    "results"
   ]
  },
  {
   "cell_type": "markdown",
   "id": "46d991a7",
   "metadata": {},
   "source": [
    "# 3. Plot results from point 1 showing how the percentage of amendments of a given type changed in the consecutive years"
   ]
  },
  {
   "cell_type": "code",
   "execution_count": 42,
   "id": "182c90f1",
   "metadata": {},
   "outputs": [
    {
     "data": {
      "text/plain": [
       "2711"
      ]
     },
     "execution_count": 42,
     "metadata": {},
     "output_type": "execute_result"
    }
   ],
   "source": [
    "annual = results.groupby([\"Year\"]).sum()\n",
    "annual['Additions \\[%\\]'] = annual['Additions'] / annual['All']\n",
    "annual['Removals \\[%\\]'] = annual['Removals'] / annual['All']\n",
    "annual['Changes \\[%\\]'] = annual['Changes'] / annual['All']\n",
    "annual['Removals'].sum()"
   ]
  },
  {
   "cell_type": "code",
   "execution_count": 43,
   "id": "a104d4ee",
   "metadata": {},
   "outputs": [
    {
     "data": {
      "text/plain": [
       "<Figure size 1440x1440 with 0 Axes>"
      ]
     },
     "metadata": {},
     "output_type": "display_data"
    },
    {
     "data": {
      "image/png": "[encoded data removed]",
      "text/plain": [
       "<Figure size 432x288 with 1 Axes>"
      ]
     },
     "metadata": {
      "needs_background": "light"
     },
     "output_type": "display_data"
    }
   ],
   "source": [
    "fig = plt.figure(figsize =(20,20)) \n",
    "fig = {'Additions': annual['Additions \\[%\\]'],\n",
    "        'Removals': annual['Removals \\[%\\]'],\n",
    "        'Changes':annual['Changes \\[%\\]']}\n",
    "\n",
    "fig = pd.DataFrame(fig)\n",
    "fig.plot(y=['Additions', 'Removals', 'Changes'])\n",
    "plt.show()"
   ]
  },
  {
   "cell_type": "markdown",
   "id": "8e05ea5b",
   "metadata": {},
   "source": [
    "# 4. Compute the total number of occurrences of the word ustawa in any inflectional form (ustawa, ustawie, ustawę, etc.) and all spelling forms (ustawa, Ustawa, USTAWA), excluding other words with the same prefix (e.g. ustawić)."
   ]
  },
  {
   "cell_type": "code",
   "execution_count": 44,
   "id": "bd2aee91",
   "metadata": {},
   "outputs": [
    {
     "data": {
      "text/plain": [
       "25232"
      ]
     },
     "execution_count": 44,
     "metadata": {},
     "output_type": "execute_result"
    }
   ],
   "source": [
    "\"\"\" \n",
    "Inflective forms of \"ustawa\" word: ustawa, ustawy, ustawach, \n",
    "ustaw, ustawę, ustawą, ustawie, ustawo, ustawom, ustawami\n",
    "\"\"\"\n",
    "ustawa_regex_list = [r\"(?:U|u)\\s*(?:S|s)\\s*(?:T|t)\\s*(?:A|a)\\s*(?:W|w)\\s*(?:A|a)\\b\",\n",
    "                    r\"(?:U|u)\\s*(?:S|s)\\s*(?:T|t)\\s*(?:A|a)\\s*(?:W|w)\\s*(?:Y|y)\\b\",\n",
    "                    r\"(?:U|u)\\s*(?:S|s)\\s*(?:T|t)\\s*(?:A|a)\\s*(?:W|w)\\s*(?:A|a)\\s*(?:C|c)\\s*(?:H|h)\\b\",\n",
    "                    r\"(?:U|u)\\s*(?:S|s)\\s*(?:T|t)\\s*(?:A|a)\\s*(?:W|w)\\b\",\n",
    "                    r\"(?:U|u)\\s*(?:S|s)\\s*(?:T|t)\\s*(?:A|a)\\s*(?:W|w)\\s*(?:Ę|ę)\\b\",\n",
    "                    r\"(?:U|u)\\s*(?:S|s)\\s*(?:T|t)\\s*(?:A|a)\\s*(?:W|w)\\s*(?:Ą|ą)\\b\",\n",
    "                    r\"(?:U|u)\\s*(?:S|s)\\s*(?:T|t)\\s*(?:A|a)\\s*(?:W|w)\\s*(?:I|i)\\s*(?:E|e)\\b\",\n",
    "                    r\"(?:U|u)\\s*(?:S|s)\\s*(?:T|t)\\s*(?:A|a)\\s*(?:W|w)\\s*(?:O|o)\\b\",\n",
    "                    r\"(?:U|u)\\s*(?:S|s)\\s*(?:T|t)\\s*(?:A|a)\\s*(?:W|w)\\s*(?:O|o)\\s*(?:M|m)\\b\",\n",
    "                    r\"(?:U|u)\\s*(?:S|s)\\s*(?:T|t)\\s*(?:A|a)\\s*(?:W|w)\\s*(?:A|a)\\s*(?:M|m)\\s*(?:I|i)\\b\"]\n",
    "ustawa_word_counter = 0\n",
    "for file in os.listdir(data_dir):\n",
    "    bill = open(os.path.join(data_dir, file), 'r').read()\n",
    "    bill = bill.split()\n",
    "    bill = \" \".join(bill)\n",
    "    for r in ustawa_regex_list:\n",
    "        ustawa_word_counter += len(regex.findall(r, bill))\n",
    "ustawa_word_counter            "
   ]
  },
  {
   "cell_type": "markdown",
   "id": "367943ab",
   "metadata": {},
   "source": [
    "# 5. Compute the total number of occurrences of the same word (same conditions), followed by z dnia expression."
   ]
  },
  {
   "cell_type": "code",
   "execution_count": 45,
   "id": "97af6f19",
   "metadata": {},
   "outputs": [
    {
     "data": {
      "text/plain": [
       "8729"
      ]
     },
     "execution_count": 45,
     "metadata": {},
     "output_type": "execute_result"
    }
   ],
   "source": [
    "ustawa_followed_by_z_dnia_regex_form_list = [r\"(?:U|u)\\s*(?:S|s)\\s*(?:T|t)\\s*(?:A|a)\\s*(?:W|w)\\s*(?:A|a)\\b(?= z dnia)\",\n",
    "                                             r\"(?:U|u)\\s*(?:S|s)\\s*(?:T|t)\\s*(?:A|a)\\s*(?:W|w)\\s*(?:Y|y)\\b(?= z dnia)\",\n",
    "                                             r\"(?:U|u)\\s*(?:S|s)\\s*(?:T|t)\\s*(?:A|a)\\s*(?:W|w)\\s*(?:A|a)\\s*(?:C|c)\\s*(?:H|h)\\b(?= z dnia)\",\n",
    "                                             r\"(?:U|u)\\s*(?:S|s)\\s*(?:T|t)\\s*(?:A|a)\\s*(?:W|w)\\b(?= z dnia)\",\n",
    "                                             r\"(?:U|u)\\s*(?:S|s)\\s*(?:T|t)\\s*(?:A|a)\\s*(?:W|w)\\s*(?:Ę|ę)\\b(?= z dnia)\",\n",
    "                                             r\"(?:U|u)\\s*(?:S|s)\\s*(?:T|t)\\s*(?:A|a)\\s*(?:W|w)\\s*(?:Ą|ą)\\b(?= z dnia)\",\n",
    "                                             r\"(?:U|u)\\s*(?:S|s)\\s*(?:T|t)\\s*(?:A|a)\\s*(?:W|w)\\s*(?:I|i)\\s*(?:E|e)\\b(?= z dnia)\",\n",
    "                                             r\"(?:U|u)\\s*(?:S|s)\\s*(?:T|t)\\s*(?:A|a)\\s*(?:W|w)\\s*(?:O|o)\\b(?= z dnia)\",\n",
    "                                             r\"(?:U|u)\\s*(?:S|s)\\s*(?:T|t)\\s*(?:A|a)\\s*(?:W|w)\\s*(?:O|o)\\s*(?:M|m)\\b(?= z dnia)\",\n",
    "                                             r\"(?:U|u)\\s*(?:S|s)\\s*(?:T|t)\\s*(?:A|a)\\s*(?:W|w)\\s*(?:A|a)\\s*(?:M|m)\\s*(?:I|i)\\b(?= z dnia)\"]\n",
    "\n",
    "ustawa_word_z_dnia_counter = 0\n",
    "for file in os.listdir(data_dir):\n",
    "    bill = open(os.path.join(data_dir, file), 'r').read()\n",
    "    bill = bill.split()\n",
    "    bill = \" \".join(bill)\n",
    "    for r in ustawa_followed_by_z_dnia_regex_form_list:\n",
    "        ustawa_word_z_dnia_counter += len(regex.findall(r, bill))\n",
    "ustawa_word_z_dnia_counter"
   ]
  },
  {
   "cell_type": "markdown",
   "id": "f031aba6",
   "metadata": {},
   "source": [
    "# 6. As above, but not followed by z dnia expression. Is the result correct (result 4 =? result 5 + result 6)?"
   ]
  },
  {
   "cell_type": "code",
   "execution_count": 46,
   "id": "6341c57c",
   "metadata": {},
   "outputs": [
    {
     "data": {
      "text/plain": [
       "16503"
      ]
     },
     "execution_count": 46,
     "metadata": {},
     "output_type": "execute_result"
    }
   ],
   "source": [
    "ustawa_not_followed_by_z_dnia_regex_form_list = [r\"(?:U|u)\\s*(?:S|s)\\s*(?:T|t)\\s*(?:A|a)\\s*(?:W|w)\\s*(?:A|a)\\b(?! z dnia)\",\n",
    "                                             r\"(?:U|u)\\s*(?:S|s)\\s*(?:T|t)\\s*(?:A|a)\\s*(?:W|w)\\s*(?:Y|y)\\b(?! z dnia)\",\n",
    "                                             r\"(?:U|u)\\s*(?:S|s)\\s*(?:T|t)\\s*(?:A|a)\\s*(?:W|w)\\s*(?:A|a)\\s*(?:C|c)\\s*(?:H|h)\\b(?! z dnia)\",\n",
    "                                             r\"(?:U|u)\\s*(?:S|s)\\s*(?:T|t)\\s*(?:A|a)\\s*(?:W|w)\\b(?! z dnia)\",\n",
    "                                             r\"(?:U|u)\\s*(?:S|s)\\s*(?:T|t)\\s*(?:A|a)\\s*(?:W|w)\\s*(?:Ę|ę)\\b(?! z dnia)\",\n",
    "                                             r\"(?:U|u)\\s*(?:S|s)\\s*(?:T|t)\\s*(?:A|a)\\s*(?:W|w)\\s*(?:Ą|ą)\\b(?! z dnia)\",\n",
    "                                             r\"(?:U|u)\\s*(?:S|s)\\s*(?:T|t)\\s*(?:A|a)\\s*(?:W|w)\\s*(?:I|i)\\s*(?:E|e)\\b(?! z dnia)\",\n",
    "                                             r\"(?:U|u)\\s*(?:S|s)\\s*(?:T|t)\\s*(?:A|a)\\s*(?:W|w)\\s*(?:O|o)\\b(?! z dnia)\",\n",
    "                                             r\"(?:U|u)\\s*(?:S|s)\\s*(?:T|t)\\s*(?:A|a)\\s*(?:W|w)\\s*(?:O|o)\\s*(?:M|m)\\b(?! z dnia)\",\n",
    "                                             r\"(?:U|u)\\s*(?:S|s)\\s*(?:T|t)\\s*(?:A|a)\\s*(?:W|w)\\s*(?:A|a)\\s*(?:M|m)\\s*(?:I|i)\\b(?! z dnia)\"]\n",
    "\n",
    "ustawa_word_z_dnia_nf_counter = 0\n",
    "for file in os.listdir(data_dir):\n",
    "    bill = open(os.path.join(data_dir, file), 'r').read()\n",
    "    bill = bill.split()\n",
    "    bill = \" \".join(bill)\n",
    "    for r in ustawa_not_followed_by_z_dnia_regex_form_list:\n",
    "        ustawa_word_z_dnia_nf_counter += len(regex.findall(r, bill))\n",
    "ustawa_word_z_dnia_nf_counter"
   ]
  },
  {
   "cell_type": "code",
   "execution_count": 47,
   "id": "d3d11f00",
   "metadata": {},
   "outputs": [
    {
     "name": "stdout",
     "output_type": "stream",
     "text": [
      "Correct result!\n"
     ]
    }
   ],
   "source": [
    "if ustawa_word_z_dnia_counter + ustawa_word_z_dnia_nf_counter == ustawa_word_counter:\n",
    "    print(\"Correct result!\")\n",
    "else:\n",
    "    print(\"Not correct result!\")"
   ]
  },
  {
   "cell_type": "markdown",
   "id": "d99448d3",
   "metadata": {},
   "source": [
    "# 7. Compute the total number of occurrences of the word ustawa in any inflectional form, excluding occurrences following o zmianie expression."
   ]
  },
  {
   "cell_type": "code",
   "execution_count": 50,
   "id": "27560e3e",
   "metadata": {},
   "outputs": [
    {
     "data": {
      "text/plain": [
       "24361"
      ]
     },
     "execution_count": 50,
     "metadata": {},
     "output_type": "execute_result"
    }
   ],
   "source": [
    "ustawa_o_zmianie_regex_form_list = [r\"(?<!o zmianie )(?:U|u)\\s*(?:S|s)\\s*(?:T|t)\\s*(?:A|a)\\s*(?:W|w)\\s*(?:A|a)\\b\",\n",
    "                                    r\"(?<!o zmianie )(?:U|u)\\s*(?:S|s)\\s*(?:T|t)\\s*(?:A|a)\\s*(?:W|w)\\s*(?:Y|y)\\b\",\n",
    "                                    r\"(?<!o zmianie )(?:U|u)\\s*(?:S|s)\\s*(?:T|t)\\s*(?:A|a)\\s*(?:W|w)\\s*(?:A|a)\\s*(?:C|c)\\s*(?:H|h)\\b\",\n",
    "                                    r\"(?<!o zmianie )(?:U|u)\\s*(?:S|s)\\s*(?:T|t)\\s*(?:A|a)\\s*(?:W|w)\\b\",\n",
    "                                    r\"(?<!o zmianie )(?:U|u)\\s*(?:S|s)\\s*(?:T|t)\\s*(?:A|a)\\s*(?:W|w)\\s*(?:Ę|ę)\\b\",\n",
    "                                    r\"(?<!o zmianie )(?:U|u)\\s*(?:S|s)\\s*(?:T|t)\\s*(?:A|a)\\s*(?:W|w)\\s*(?:Ą|ą)\\b\",\n",
    "                                    r\"(?<!o zmianie )(?:U|u)\\s*(?:S|s)\\s*(?:T|t)\\s*(?:A|a)\\s*(?:W|w)\\s*(?:I|i)\\s*(?:E|e)\\b\",\n",
    "                                    r\"(?<!o zmianie )(?:U|u)\\s*(?:S|s)\\s*(?:T|t)\\s*(?:A|a)\\s*(?:W|w)\\s*(?:O|o)\\b\",\n",
    "                                    r\"(?<!o zmianie )(?:U|u)\\s*(?:S|s)\\s*(?:T|t)\\s*(?:A|a)\\s*(?:W|w)\\s*(?:O|o)\\s*(?:M|m)\\b\",\n",
    "                                    r\"(?<!o zmianie )(?:U|u)\\s*(?:S|s)\\s*(?:T|t)\\s*(?:A|a)\\s*(?:W|w)\\s*(?:A|a)\\s*(?:M|m)\\s*(?:I|i)\\b\"]\n",
    "\n",
    "ustawa_word_o_zmianie_counter = 0\n",
    "for file in os.listdir(data_dir):\n",
    "    bill = open(os.path.join(data_dir, file), 'r').read()\n",
    "    bill = bill.split()\n",
    "    bill = \" \".join(bill)\n",
    "    for r in ustawa_o_zmianie_regex_form_list:\n",
    "        ustawa_word_o_zmianie_counter += len(regex.findall(r, bill))\n",
    "ustawa_word_o_zmianie_counter"
   ]
  },
  {
   "cell_type": "markdown",
   "id": "f5f65902",
   "metadata": {},
   "source": [
    "# 8. Plot results 4-7 using a bar chart."
   ]
  },
  {
   "cell_type": "code",
   "execution_count": 51,
   "id": "bbcebbb2",
   "metadata": {},
   "outputs": [
    {
     "data": {
      "image/png": "[encoded data removed]",
      "text/plain": [
       "<Figure size 720x360 with 1 Axes>"
      ]
     },
     "metadata": {
      "needs_background": "light"
     },
     "output_type": "display_data"
    }
   ],
   "source": [
    "data = {'4':ustawa_word_counter,\n",
    "        '5':ustawa_word_z_dnia_counter,\n",
    "        '6':ustawa_word_z_dnia_nf_counter,\n",
    "        '7':ustawa_word_o_zmianie_counter}\n",
    "exercises = list(data.keys())\n",
    "values = list(data.values())\n",
    "  \n",
    "fig = plt.figure(figsize = (10, 5))\n",
    "\n",
    "plt.bar(exercises, values, width = 0.4)\n",
    "plt.show()"
   ]
  },
  {
   "cell_type": "code",
   "execution_count": null,
   "id": "fe4a3f66",
   "metadata": {},
   "outputs": [],
   "source": []
  }
 ],
 "metadata": {
  "kernelspec": {
   "display_name": "Python 3",
   "language": "python",
   "name": "python3"
  },
  "language_info": {
   "codemirror_mode": {
    "name": "ipython",
    "version": 3
   },
   "file_extension": ".py",
   "mimetype": "text/x-python",
   "name": "python",
   "nbconvert_exporter": "python",
   "pygments_lexer": "ipython3",
   "version": "3.8.8"
  }
 },
 "nbformat": 4,
 "nbformat_minor": 5
}
